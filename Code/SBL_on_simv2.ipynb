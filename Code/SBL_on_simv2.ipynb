{
 "cells": [
  {
   "cell_type": "code",
   "execution_count": 1,
   "id": "666b66f2",
   "metadata": {},
   "outputs": [],
   "source": [
    "import numpy as np\n",
    "import matplotlib.pyplot as plt\n",
    "from utils.plot_settings import get_figsize, LINE_STYLES, DPI\n",
    "import os\n",
    "from SBL_algs.SBL_Fast import SBL_Fast_Vector\n",
    "from utils.Process_sim_data import load_nearfield, transform_nearfield_to_vector, transform_vector_to_nearfield\n",
    "from radiation.sphere_wave import abF_matrix_alt, F_matrix_alt, Fmnc, F_expansion, nm_expansion, inverse_nm_expansion\n",
    "import importlib\n",
    "from utils.plot import plot_Fcoefficient_magnitudes, plot3D, plot_abcoefficient_magnitudes, vec_MSE"
   ]
  },
  {
   "cell_type": "code",
   "execution_count": 2,
   "id": "cc530f20",
   "metadata": {},
   "outputs": [],
   "source": [
    "r = 50e-3\n",
    "f = 2.4e9\n",
    "k = 2*np.pi*f/(3e8)\n",
    "eta = 376.7\n",
    "filename = 'dipole_nearfield_spherical.txt'"
   ]
  },
  {
   "cell_type": "code",
   "execution_count": 3,
   "id": "98ca2152",
   "metadata": {},
   "outputs": [],
   "source": [
    "filename = 'dipole_nearfield_spherical.txt'\n",
    "Efield_us = load_nearfield(filename, undersampling=5)\n",
    "Efield_us_vec = transform_nearfield_to_vector(Efield_us)"
   ]
  },
  {
   "cell_type": "markdown",
   "id": "4b7e451a",
   "metadata": {},
   "source": [
    "## Spherical wave mode expansion with n and m coefficients"
   ]
  },
  {
   "cell_type": "code",
   "execution_count": null,
   "id": "eaf33b64",
   "metadata": {},
   "outputs": [],
   "source": [
    "Q_coeffs_exp = F_expansion(Efield_us, 17, k, r)"
   ]
  },
  {
   "cell_type": "code",
   "execution_count": null,
   "id": "9399b884",
   "metadata": {},
   "outputs": [],
   "source": [
    "F,nms_idx,thetaphi_idx = F_matrix_alt(Efield_us.theta, Efield_us.phi, R=r, N_modes=25, k=k)"
   ]
  },
  {
   "cell_type": "code",
   "execution_count": null,
   "id": "871cdbf3",
   "metadata": {},
   "outputs": [],
   "source": [
    "Efield_exp_vec = np.zeros_like(Efield_us_vec)\n",
    "for i in range(3):\n",
    "        Efield_exp_vec[:,i] = (k/eta)*(F[:,:,i] @ Q_coeffs_exp).flatten()\n",
    "Efield_exp = transform_vector_to_nearfield(Efield_exp_vec, Efield_us.theta, Efield_us.phi)"
   ]
  },
  {
   "cell_type": "code",
   "execution_count": null,
   "id": "c5042ed6",
   "metadata": {},
   "outputs": [],
   "source": [
    "vec_MSE(Efield_exp_vec,Efield_us_vec)"
   ]
  },
  {
   "cell_type": "code",
   "execution_count": null,
   "id": "a9d9897c",
   "metadata": {},
   "outputs": [],
   "source": [
    "plot3D(Efield_exp, Efield_exp.theta, Efield_exp.phi, r)\n",
    "plot3D(Efield_us, Efield_us.theta, Efield_us.phi, r)\n"
   ]
  },
  {
   "cell_type": "code",
   "execution_count": null,
   "id": "c26b1229",
   "metadata": {},
   "outputs": [],
   "source": [
    "Q_coeffs_exp.shape"
   ]
  },
  {
   "cell_type": "code",
   "execution_count": null,
   "id": "72bbc921",
   "metadata": {},
   "outputs": [],
   "source": [
    "plot_abcoefficient_magnitudes(np.concatenate([nms_idx, Q_coeffs_exp], axis=1).transpose)"
   ]
  },
  {
   "cell_type": "markdown",
   "id": "a0a86dc5",
   "metadata": {},
   "source": [
    "## SBL with F coefficients"
   ]
  },
  {
   "cell_type": "code",
   "execution_count": null,
   "id": "f19f284c",
   "metadata": {},
   "outputs": [],
   "source": [
    "F, nms_idx,_ = F_matrix_alt(Efield_us.theta, Efield_us.phi, R=r, N_modes=17, k=k)\n",
    "sbl_vec_F = SBL_Fast_Vector(Efield_us_vec, F, max_iter=100, threshold=1e-8)\n",
    "w_est_F, basis = sbl_vec_F.fit()"
   ]
  },
  {
   "cell_type": "code",
   "execution_count": null,
   "id": "a7634e47",
   "metadata": {},
   "outputs": [],
   "source": [
    "Efield_SBLF_vec = np.zeros_like(Efield_us_vec)\n",
    "for i in range(3):\n",
    "        Efield_SBLF_vec[:,i] = F[:,:,i] @ w_est_F\n",
    "Efield_SBLF = transform_vector_to_nearfield(Efield_SBLF_vec, Efield_us.theta, Efield_us.phi)"
   ]
  },
  {
   "cell_type": "code",
   "execution_count": null,
   "id": "c6100dc5",
   "metadata": {},
   "outputs": [],
   "source": [
    "vec_MSE(Efield_SBLF_vec,Efield_us_vec)\n",
    "plot3D(Efield_SBLF, Efield_exp.theta, Efield_exp.phi, r)\n",
    "plot3D(Efield_us, Efield_us.theta, Efield_us.phi, r)"
   ]
  },
  {
   "cell_type": "markdown",
   "id": "13760df6",
   "metadata": {},
   "source": [
    "## SBL with m&n coefficients"
   ]
  },
  {
   "cell_type": "code",
   "execution_count": null,
   "id": "4bebfe14",
   "metadata": {},
   "outputs": [],
   "source": [
    "mn_mat, nms_idx,_ = F_matrix_alt(Efield_us.theta, Efield_us.phi, R=r, N_modes=17, k=k)\n",
    "sbl_vec_mn = SBL_Fast_Vector(Efield_us_vec, mn_mat, max_iter=100, threshold=1e-8)\n",
    "w_est_mn, basis = sbl_vec_mn.fit()"
   ]
  },
  {
   "cell_type": "code",
   "execution_count": null,
   "id": "29835207",
   "metadata": {},
   "outputs": [],
   "source": [
    "Efield_SBLmn_vec = np.zeros_like(Efield_us_vec)\n",
    "for i in range(3):\n",
    "        Efield_SBLmn_vec[:,i] = F[:,:,i] @ w_est_mn\n",
    "Efield_SBLmn = transform_vector_to_nearfield(Efield_SBLmn_vec, Efield_us.theta, Efield_us.phi)"
   ]
  },
  {
   "cell_type": "code",
   "execution_count": null,
   "id": "5263ff8b",
   "metadata": {},
   "outputs": [],
   "source": [
    "vec_MSE(Efield_SBLmn_vec,Efield_us_vec)\n",
    "vec_MSE(Efield_SBLF_vec,Efield_us_vec)\n",
    "plot3D(Efield_SBLmn, Efield_exp.theta, Efield_exp.phi, r)\n",
    "plot3D(Efield_us, Efield_us.theta, Efield_us.phi, r)"
   ]
  }
 ],
 "metadata": {
  "kernelspec": {
   "display_name": "Python 3 (ipykernel)",
   "language": "python",
   "name": "python3"
  },
  "language_info": {
   "codemirror_mode": {
    "name": "ipython",
    "version": 3
   },
   "file_extension": ".py",
   "mimetype": "text/x-python",
   "name": "python",
   "nbconvert_exporter": "python",
   "pygments_lexer": "ipython3",
   "version": "3.10.12"
  }
 },
 "nbformat": 4,
 "nbformat_minor": 5
}
